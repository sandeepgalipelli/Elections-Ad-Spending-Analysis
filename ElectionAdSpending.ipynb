{
 "cells": [
  {
   "cell_type": "code",
   "execution_count": 1,
   "id": "12d264bf-24ac-4e1e-828f-4d695c49794e",
   "metadata": {},
   "outputs": [],
   "source": [
    "import pandas as p"
   ]
  },
  {
   "cell_type": "code",
   "execution_count": 2,
   "id": "647920b8-1c7a-4314-8aee-d80a8efce10a",
   "metadata": {},
   "outputs": [],
   "source": [
    "advertisers = p.read_csv(r\"C:\\Elections-Ad-Spending-Analysis\\elections-data\\advertisers.csv\")\n",
    "locations = p.read_csv(r\"C:\\Elections-Ad-Spending-Analysis\\elections-data\\locations.csv\")\n",
    "results = p.read_csv(r\"C:\\Elections-Ad-Spending-Analysis\\elections-data\\locations.csv\")"
   ]
  },
  {
   "cell_type": "code",
   "execution_count": 3,
   "id": "f91017a1-a6db-44c0-8ce6-6b9154a7ecbb",
   "metadata": {},
   "outputs": [
    {
     "data": {
      "text/html": [
       "<div>\n",
       "<style scoped>\n",
       "    .dataframe tbody tr th:only-of-type {\n",
       "        vertical-align: middle;\n",
       "    }\n",
       "\n",
       "    .dataframe tbody tr th {\n",
       "        vertical-align: top;\n",
       "    }\n",
       "\n",
       "    .dataframe thead th {\n",
       "        text-align: right;\n",
       "    }\n",
       "</style>\n",
       "<table border=\"1\" class=\"dataframe\">\n",
       "  <thead>\n",
       "    <tr style=\"text-align: right;\">\n",
       "      <th></th>\n",
       "      <th>Page ID</th>\n",
       "      <th>Page name</th>\n",
       "      <th>Disclaimer</th>\n",
       "      <th>Amount spent (INR)</th>\n",
       "      <th>Number of ads in Library</th>\n",
       "    </tr>\n",
       "  </thead>\n",
       "  <tbody>\n",
       "    <tr>\n",
       "      <th>0</th>\n",
       "      <td>121439954563203</td>\n",
       "      <td>Bharatiya Janata Party (BJP)</td>\n",
       "      <td>Bharatiya Janata Party (BJP)</td>\n",
       "      <td>193854342</td>\n",
       "      <td>43455</td>\n",
       "    </tr>\n",
       "    <tr>\n",
       "      <th>1</th>\n",
       "      <td>351616078284404</td>\n",
       "      <td>Indian National Congress</td>\n",
       "      <td>Indian National Congress</td>\n",
       "      <td>108787100</td>\n",
       "      <td>846</td>\n",
       "    </tr>\n",
       "    <tr>\n",
       "      <th>2</th>\n",
       "      <td>132715103269897</td>\n",
       "      <td>Ama Chinha Sankha Chinha</td>\n",
       "      <td>Ama Chinha Sankha Chinha</td>\n",
       "      <td>73361399</td>\n",
       "      <td>1799</td>\n",
       "    </tr>\n",
       "    <tr>\n",
       "      <th>3</th>\n",
       "      <td>192856493908290</td>\n",
       "      <td>Ama Chinha Sankha Chinha</td>\n",
       "      <td>Ama Chinha Sankha Chinha</td>\n",
       "      <td>32294327</td>\n",
       "      <td>680</td>\n",
       "    </tr>\n",
       "    <tr>\n",
       "      <th>4</th>\n",
       "      <td>109470364774303</td>\n",
       "      <td>Ellorum Nammudan</td>\n",
       "      <td>Populus Empowerment Network Private Limited</td>\n",
       "      <td>22399499</td>\n",
       "      <td>879</td>\n",
       "    </tr>\n",
       "  </tbody>\n",
       "</table>\n",
       "</div>"
      ],
      "text/plain": [
       "           Page ID                     Page name  \\\n",
       "0  121439954563203  Bharatiya Janata Party (BJP)   \n",
       "1  351616078284404      Indian National Congress   \n",
       "2  132715103269897      Ama Chinha Sankha Chinha   \n",
       "3  192856493908290      Ama Chinha Sankha Chinha   \n",
       "4  109470364774303              Ellorum Nammudan   \n",
       "\n",
       "                                    Disclaimer Amount spent (INR)  \\\n",
       "0                 Bharatiya Janata Party (BJP)          193854342   \n",
       "1                     Indian National Congress          108787100   \n",
       "2                     Ama Chinha Sankha Chinha           73361399   \n",
       "3                     Ama Chinha Sankha Chinha           32294327   \n",
       "4  Populus Empowerment Network Private Limited           22399499   \n",
       "\n",
       "   Number of ads in Library  \n",
       "0                     43455  \n",
       "1                       846  \n",
       "2                      1799  \n",
       "3                       680  \n",
       "4                       879  "
      ]
     },
     "execution_count": 3,
     "metadata": {},
     "output_type": "execute_result"
    }
   ],
   "source": [
    "advertisers.head()"
   ]
  },
  {
   "cell_type": "code",
   "execution_count": 4,
   "id": "2e5ff34c-9e20-49fc-b785-15c614c95e63",
   "metadata": {},
   "outputs": [
    {
     "data": {
      "text/html": [
       "<div>\n",
       "<style scoped>\n",
       "    .dataframe tbody tr th:only-of-type {\n",
       "        vertical-align: middle;\n",
       "    }\n",
       "\n",
       "    .dataframe tbody tr th {\n",
       "        vertical-align: top;\n",
       "    }\n",
       "\n",
       "    .dataframe thead th {\n",
       "        text-align: right;\n",
       "    }\n",
       "</style>\n",
       "<table border=\"1\" class=\"dataframe\">\n",
       "  <thead>\n",
       "    <tr style=\"text-align: right;\">\n",
       "      <th></th>\n",
       "      <th>Location name</th>\n",
       "      <th>Amount spent (INR)</th>\n",
       "    </tr>\n",
       "  </thead>\n",
       "  <tbody>\n",
       "    <tr>\n",
       "      <th>0</th>\n",
       "      <td>Andaman and Nicobar Islands</td>\n",
       "      <td>377858</td>\n",
       "    </tr>\n",
       "    <tr>\n",
       "      <th>1</th>\n",
       "      <td>Andhra Pradesh</td>\n",
       "      <td>100819732</td>\n",
       "    </tr>\n",
       "    <tr>\n",
       "      <th>2</th>\n",
       "      <td>Arunachal Pradesh</td>\n",
       "      <td>1385654</td>\n",
       "    </tr>\n",
       "    <tr>\n",
       "      <th>3</th>\n",
       "      <td>Assam</td>\n",
       "      <td>17478091</td>\n",
       "    </tr>\n",
       "    <tr>\n",
       "      <th>4</th>\n",
       "      <td>Bihar</td>\n",
       "      <td>53619242</td>\n",
       "    </tr>\n",
       "  </tbody>\n",
       "</table>\n",
       "</div>"
      ],
      "text/plain": [
       "                 Location name  Amount spent (INR)\n",
       "0  Andaman and Nicobar Islands              377858\n",
       "1               Andhra Pradesh           100819732\n",
       "2            Arunachal Pradesh             1385654\n",
       "3                        Assam            17478091\n",
       "4                        Bihar            53619242"
      ]
     },
     "execution_count": 4,
     "metadata": {},
     "output_type": "execute_result"
    }
   ],
   "source": [
    "locations.head()"
   ]
  },
  {
   "cell_type": "code",
   "execution_count": 5,
   "id": "879d0c4d-4569-46a8-8fa1-9d72e6238116",
   "metadata": {},
   "outputs": [
    {
     "data": {
      "text/html": [
       "<div>\n",
       "<style scoped>\n",
       "    .dataframe tbody tr th:only-of-type {\n",
       "        vertical-align: middle;\n",
       "    }\n",
       "\n",
       "    .dataframe tbody tr th {\n",
       "        vertical-align: top;\n",
       "    }\n",
       "\n",
       "    .dataframe thead th {\n",
       "        text-align: right;\n",
       "    }\n",
       "</style>\n",
       "<table border=\"1\" class=\"dataframe\">\n",
       "  <thead>\n",
       "    <tr style=\"text-align: right;\">\n",
       "      <th></th>\n",
       "      <th>Location name</th>\n",
       "      <th>Amount spent (INR)</th>\n",
       "    </tr>\n",
       "  </thead>\n",
       "  <tbody>\n",
       "    <tr>\n",
       "      <th>0</th>\n",
       "      <td>Andaman and Nicobar Islands</td>\n",
       "      <td>377858</td>\n",
       "    </tr>\n",
       "    <tr>\n",
       "      <th>1</th>\n",
       "      <td>Andhra Pradesh</td>\n",
       "      <td>100819732</td>\n",
       "    </tr>\n",
       "    <tr>\n",
       "      <th>2</th>\n",
       "      <td>Arunachal Pradesh</td>\n",
       "      <td>1385654</td>\n",
       "    </tr>\n",
       "    <tr>\n",
       "      <th>3</th>\n",
       "      <td>Assam</td>\n",
       "      <td>17478091</td>\n",
       "    </tr>\n",
       "    <tr>\n",
       "      <th>4</th>\n",
       "      <td>Bihar</td>\n",
       "      <td>53619242</td>\n",
       "    </tr>\n",
       "  </tbody>\n",
       "</table>\n",
       "</div>"
      ],
      "text/plain": [
       "                 Location name  Amount spent (INR)\n",
       "0  Andaman and Nicobar Islands              377858\n",
       "1               Andhra Pradesh           100819732\n",
       "2            Arunachal Pradesh             1385654\n",
       "3                        Assam            17478091\n",
       "4                        Bihar            53619242"
      ]
     },
     "execution_count": 5,
     "metadata": {},
     "output_type": "execute_result"
    }
   ],
   "source": [
    "results.head()"
   ]
  },
  {
   "cell_type": "code",
   "execution_count": null,
   "id": "557a99e6-fea5-4325-ae05-024448113955",
   "metadata": {},
   "outputs": [],
   "source": []
  }
 ],
 "metadata": {
  "kernelspec": {
   "display_name": "Python 3 (ipykernel)",
   "language": "python",
   "name": "python3"
  },
  "language_info": {
   "codemirror_mode": {
    "name": "ipython",
    "version": 3
   },
   "file_extension": ".py",
   "mimetype": "text/x-python",
   "name": "python",
   "nbconvert_exporter": "python",
   "pygments_lexer": "ipython3",
   "version": "3.11.7"
  }
 },
 "nbformat": 4,
 "nbformat_minor": 5
}
